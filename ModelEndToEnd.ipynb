{
 "cells": [
  {
   "cell_type": "markdown",
   "metadata": {},
   "source": [
    "# Modelling Latency"
   ]
  },
  {
   "cell_type": "markdown",
   "metadata": {},
   "source": [
    "## Import Libraries"
   ]
  },
  {
   "cell_type": "code",
   "execution_count": 25,
   "metadata": {},
   "outputs": [],
   "source": [
    "import matplotlib.pyplot as plt\n",
    "import numpy as np\n",
    "import pandas as pd\n",
    "from itertools import accumulate"
   ]
  },
  {
   "cell_type": "markdown",
   "metadata": {},
   "source": [
    "## Generate Data"
   ]
  },
  {
   "cell_type": "code",
   "execution_count": 26,
   "metadata": {},
   "outputs": [
    {
     "name": "stdout",
     "output_type": "stream",
     "text": [
      "       Bytes            SourceIP       ICMPSeq       TTL           Time  TimeFiltered  ICMPSeqFiltered\n",
      "0   64 bytes   from 192.168.4.2:    icmp_seq=1   ttl=255   time=1042 ms        1042.0                1\n",
      "1   64 bytes   from 192.168.4.2:    icmp_seq=2   ttl=255   time=40.0 ms          40.0                2\n",
      "2   64 bytes   from 192.168.4.2:    icmp_seq=3   ttl=255   time=14.0 ms          14.0                3\n",
      "3   64 bytes   from 192.168.4.2:    icmp_seq=4   ttl=255   time=13.0 ms          13.0                4\n",
      "4   64 bytes   from 192.168.4.2:    icmp_seq=5   ttl=255   time=17.1 ms          17.1                5\n",
      "5   64 bytes   from 192.168.4.2:    icmp_seq=6   ttl=255   time=16.1 ms          16.1                6\n",
      "6   64 bytes   from 192.168.4.2:    icmp_seq=7   ttl=255   time=15.0 ms          15.0                7\n",
      "7   64 bytes   from 192.168.4.2:    icmp_seq=8   ttl=255   time=14.1 ms          14.1                8\n",
      "8   64 bytes   from 192.168.4.2:    icmp_seq=9   ttl=255   time=13.4 ms          13.4                9\n",
      "9   64 bytes   from 192.168.4.2:   icmp_seq=10   ttl=255   time=17.1 ms          17.1               10\n",
      "10  64 bytes   from 192.168.4.2:   icmp_seq=11   ttl=255   time=16.0 ms          16.0               11\n",
      "11  64 bytes   from 192.168.4.2:   icmp_seq=12   ttl=255   time=15.0 ms          15.0               12\n",
      "12  64 bytes   from 192.168.4.2:   icmp_seq=13   ttl=255   time=23.0 ms          23.0               13\n",
      "13  64 bytes   from 192.168.4.2:   icmp_seq=14   ttl=255   time=17.1 ms          17.1               14\n",
      "14  64 bytes   from 192.168.4.2:   icmp_seq=15   ttl=255   time=16.1 ms          16.1               15\n",
      "15  64 bytes   from 192.168.4.2:   icmp_seq=16   ttl=255   time=25.6 ms          25.6               16\n",
      "16  64 bytes   from 192.168.4.2:   icmp_seq=17   ttl=255   time=14.2 ms          14.2               17\n",
      "17  64 bytes   from 192.168.4.2:   icmp_seq=18   ttl=255   time=13.3 ms          13.3               18\n",
      "18  64 bytes   from 192.168.4.2:   icmp_seq=19   ttl=255   time=16.7 ms          16.7               19\n",
      "19  64 bytes   from 192.168.4.2:   icmp_seq=20   ttl=255   time=15.1 ms          15.1               20\n",
      "20  64 bytes   from 192.168.4.2:   icmp_seq=21   ttl=255   time=14.0 ms          14.0               21\n",
      "21  64 bytes   from 192.168.4.2:   icmp_seq=22   ttl=255   time=12.9 ms          12.9               22\n",
      "22  64 bytes   from 192.168.4.2:   icmp_seq=23   ttl=255   time=16.0 ms          16.0               23\n"
     ]
    },
    {
     "data": {
      "image/png": "[encoded data removed]",
      "text/plain": [
       "<Figure size 432x288 with 1 Axes>"
      ]
     },
     "metadata": {
      "needs_background": "light"
     },
     "output_type": "display_data"
    }
   ],
   "source": [
    "# df = pd.DataFrame()\n",
    "# df['x1'] = np.random.uniform(-1,1, size=1000)\n",
    "# df['x2'] = df['x1'] + np.random.uniform(-1,1, size=1000)\n",
    "# df['x3'] = df['x2'] + np.random.uniform(-1,1, size=1000)\n",
    "# df['x4'] = df['x3'] + np.random.uniform(-1, 1, size=1000)\n",
    "\n",
    "columnNames = ['Bytes', 'SourceIP', 'ICMPSeq', 'TTL', 'Time']\n",
    "# df = pd.read_csv('endtoend1.csv', on_bad_lines='skip', usecols=columns)\n",
    "df = pd.read_csv('endtoend1.csv', names=columnNames)\n",
    "# print(df.to_string())\n",
    "\n",
    "# Filtering data\n",
    "# To extract all latencies in float eliminating any string\n",
    "df['TimeFiltered'] = df['Time'].str.extract(r'(\\d+.\\d+)').astype('float')\n",
    "df['ICMPSeqFiltered'] = df['ICMPSeq'].str.extract(r'(\\d+)').astype('int')\n",
    "\n",
    "# Printing the resultant filtered data\n",
    "print(df.to_string())\n",
    "\n",
    "# Initial Plot\n",
    "plt.plot(df.ICMPSeqFiltered, df.TimeFiltered)\n",
    "plt.title(\"Ping Latency vs ICMP Sequence\")\n",
    "plt.xlabel('ICMP Sequence')\n",
    "plt.ylabel('Ping Latency')\n",
    "fig1 = plt.gcf()\n",
    "plt.show()\n",
    "# Saving the plot in mentoned file path\n",
    "fig1.savefig('./plots/LineGraph-PingLatencyVSICMPSequence.png', dpi=100, facecolor='white', transparent=False)"
   ]
  },
  {
   "cell_type": "markdown",
   "metadata": {},
   "source": [
    "## Start Plot"
   ]
  },
  {
   "cell_type": "code",
   "execution_count": 27,
   "metadata": {},
   "outputs": [
    {
     "name": "stdout",
     "output_type": "stream",
     "text": [
      "No of Data points:  23 \n",
      "\n",
      "Data: \n",
      " 0     1042.0\n",
      "1       40.0\n",
      "2       14.0\n",
      "3       13.0\n",
      "4       17.1\n",
      "5       16.1\n",
      "6       15.0\n",
      "7       14.1\n",
      "8       13.4\n",
      "9       17.1\n",
      "10      16.0\n",
      "11      15.0\n",
      "12      23.0\n",
      "13      17.1\n",
      "14      16.1\n",
      "15      25.6\n",
      "16      14.2\n",
      "17      13.3\n",
      "18      16.7\n",
      "19      15.1\n",
      "20      14.0\n",
      "21      12.9\n",
      "22      16.0\n",
      "Name: TimeFiltered, dtype: float64\n",
      "Count:  [22  0  0  0  0  0  0  0  0  1] \n",
      "\n",
      "No. of bins:  [  12.9   115.81  218.72  321.63  424.54  527.45  630.36  733.27  836.18\n",
      "  939.09 1042.  ] \n",
      "\n"
     ]
    },
    {
     "data": {
      "image/png": "[encoded data removed]",
      "text/plain": [
       "<Figure size 432x288 with 1 Axes>"
      ]
     },
     "metadata": {
      "needs_background": "light"
     },
     "output_type": "display_data"
    }
   ],
   "source": [
    "dataPoints = len(df.TimeFiltered)\n",
    "print(\"No of Data points: \", dataPoints, '\\n')\n",
    "\n",
    "# No of Data points\n",
    "# N = 500\n",
    "N = dataPoints\n",
    "  \n",
    "# initializing random values\n",
    "# data = np.random.randn(N)\n",
    "data = df.TimeFiltered\n",
    "\n",
    "print(\"Data: \\n\", data)\n",
    "  \n",
    "# getting data of the histogram\n",
    "count, bins_count = np.histogram(data, bins=10)\n",
    "\n",
    "print(\"Count: \", count, '\\n')\n",
    "print(\"No. of bins: \", bins_count, '\\n')\n",
    "  \n",
    "# finding the PDF of the histogram using count values\n",
    "pdf = count / sum(count)\n",
    "  \n",
    "# using numpy np.cumsum to calculate the CDF\n",
    "# We can also find using the PDF values by looping and adding\n",
    "cdf = np.cumsum(pdf)\n",
    "  \n",
    "# plotting PDF and CDF\n",
    "plt.plot(bins_count[1:], pdf, color=\"red\", label=\"PDF\")\n",
    "plt.plot(bins_count[1:], cdf, label=\"CDF\")\n",
    "plt.legend()\n",
    "plt.title(\"PDF and CDF of Latencies\")\n",
    "plt.xlabel('Ping Latency')\n",
    "plt.ylabel('Probability')\n",
    "fig2 = plt.gcf()\n",
    "plt.show()\n",
    "\n",
    "# Saving the plot in mentoned file path\n",
    "fig2.savefig('./plots/PDFandCDF.png', dpi=100, facecolor='white', transparent=False)"
   ]
  },
  {
   "cell_type": "code",
   "execution_count": 28,
   "metadata": {},
   "outputs": [
    {
     "ename": "TypeError",
     "evalue": "ufunc 'isfinite' not supported for the input types, and the inputs could not be safely coerced to any supported types according to the casting rule ''safe''",
     "output_type": "error",
     "traceback": [
      "\u001b[1;31m---------------------------------------------------------------------------\u001b[0m",
      "\u001b[1;31mTypeError\u001b[0m                                 Traceback (most recent call last)",
      "\u001b[1;32mi:\\Niladri\\Thesis\\github\\MasterThesis\\ModelEndToEnd.ipynb Cell 8'\u001b[0m in \u001b[0;36m<cell line: 3>\u001b[1;34m()\u001b[0m\n\u001b[0;32m      <a href='vscode-notebook-cell:/i%3A/Niladri/Thesis/github/MasterThesis/ModelEndToEnd.ipynb#ch0000006?line=0'>1</a>\u001b[0m fig,ax \u001b[39m=\u001b[39m plt\u001b[39m.\u001b[39msubplots()\n\u001b[0;32m      <a href='vscode-notebook-cell:/i%3A/Niladri/Thesis/github/MasterThesis/ModelEndToEnd.ipynb#ch0000006?line=2'>3</a>\u001b[0m \u001b[39mfor\u001b[39;00m col \u001b[39min\u001b[39;00m df\u001b[39m.\u001b[39mcolumns:\n\u001b[0;32m      <a href='vscode-notebook-cell:/i%3A/Niladri/Thesis/github/MasterThesis/ModelEndToEnd.ipynb#ch0000006?line=3'>4</a>\u001b[0m \n\u001b[0;32m      <a href='vscode-notebook-cell:/i%3A/Niladri/Thesis/github/MasterThesis/ModelEndToEnd.ipynb#ch0000006?line=4'>5</a>\u001b[0m   \u001b[39m# SKIP IF IT HAS ANY INFINITE VALUES\u001b[39;00m\n\u001b[1;32m----> <a href='vscode-notebook-cell:/i%3A/Niladri/Thesis/github/MasterThesis/ModelEndToEnd.ipynb#ch0000006?line=5'>6</a>\u001b[0m   \u001b[39mif\u001b[39;00m \u001b[39mnot\u001b[39;00m \u001b[39mall\u001b[39m(np\u001b[39m.\u001b[39;49misfinite(df[col]\u001b[39m.\u001b[39;49mvalues)):\n\u001b[0;32m      <a href='vscode-notebook-cell:/i%3A/Niladri/Thesis/github/MasterThesis/ModelEndToEnd.ipynb#ch0000006?line=6'>7</a>\u001b[0m     \u001b[39mcontinue\u001b[39;00m\n\u001b[0;32m      <a href='vscode-notebook-cell:/i%3A/Niladri/Thesis/github/MasterThesis/ModelEndToEnd.ipynb#ch0000006?line=8'>9</a>\u001b[0m   \u001b[39m# USE numpy's HISTOGRAM FUNCTION TO COMPUTE BINS\u001b[39;00m\n",
      "\u001b[1;31mTypeError\u001b[0m: ufunc 'isfinite' not supported for the input types, and the inputs could not be safely coerced to any supported types according to the casting rule ''safe''"
     ]
    },
    {
     "data": {
      "image/png": "[encoded data removed]",
      "text/plain": [
       "<Figure size 432x288 with 1 Axes>"
      ]
     },
     "metadata": {
      "needs_background": "light"
     },
     "output_type": "display_data"
    }
   ],
   "source": [
    "# fig,ax = plt.subplots()\n",
    "\n",
    "# for col in df.columns:\n",
    "\n",
    "  # SKIP IF IT HAS ANY INFINITE VALUES\n",
    "  # if not all(np.isfinite(df[col].values)):\n",
    "    # continue\n",
    "\n",
    "  # USE numpy's HISTOGRAM FUNCTION TO COMPUTE BINS\n",
    "  # xh, xb = np.histogram(df[col], bins=60, normed=True)\n",
    "\n",
    "  # COMPUTE THE CUMULATIVE SUM WITH accumulate\n",
    "  # xh = list(accumulate(xh))\n",
    "  # NORMALIZE THE RESULT\n",
    "  # xh = np.array(xh) / max(xh)\n",
    "\n",
    "  # PLOT WITH LABEL\n",
    "  # ax.plot(xb[1:], xh, label=f\"$CDF$({col})\")\n",
    "# ax.legend()\n",
    "# plt.title(\"CDFs of Columns\")\n",
    "# plt.show()"
   ]
  }
 ],
 "metadata": {
  "kernelspec": {
   "display_name": "Python 3.9.2 64-bit",
   "language": "python",
   "name": "python3"
  },
  "language_info": {
   "codemirror_mode": {
    "name": "ipython",
    "version": 3
   },
   "file_extension": ".py",
   "mimetype": "text/x-python",
   "name": "python",
   "nbconvert_exporter": "python",
   "pygments_lexer": "ipython3",
   "version": "3.9.2"
  },
  "orig_nbformat": 4,
  "vscode": {
   "interpreter": {
    "hash": "81794d4967e6c3204c66dcd87b604927b115b27c00565d3d43f05ba2f3a2cb0d"
   }
  }
 },
 "nbformat": 4,
 "nbformat_minor": 2
}
